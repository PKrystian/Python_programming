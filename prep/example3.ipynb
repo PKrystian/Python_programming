{
 "cells": [
  {
   "cell_type": "code",
   "execution_count": 48,
   "metadata": {},
   "outputs": [
    {
     "name": "stdout",
     "output_type": "stream",
     "text": [
      "[[ 6. 10.  2.  1.  8.]\n",
      " [10.  3.  3.  6.  4.]\n",
      " [ 2.  9.  4.  5.  7.]\n",
      " [ 6.  3.  1. 10.  5.]\n",
      " [ 3.  5.  9.  7.  8.]]\n",
      "0 row, sum: 27.0\n",
      "1 row, sum: 26.0\n",
      "2 row, sum: 27.0\n",
      "3 row, sum: 25.0\n",
      "4 row, sum: 32.0\n",
      "0 column, sum: 27.0\n",
      "1 column, sum: 30.0\n",
      "2 column, sum: 19.0\n",
      "3 column, sum: 29.0\n",
      "4 column, sum: 32.0\n",
      "[[ 2  4  4  1  7]\n",
      " [ 1 10  5  5  2]\n",
      " [ 1  7  7 10  1]\n",
      " [ 2  2  1  3  5]\n",
      " [ 7  6  2  1  1]]\n",
      "Row 0, sum: 18\n",
      "Row 1, sum: 23\n",
      "Row 2, sum: 26\n",
      "Row 3, sum: 13\n",
      "Row 4, sum: 17\n",
      "Column 0, sum: 13\n",
      "Column 1, sum: 29\n",
      "Column 2, sum: 19\n",
      "Column 3, sum: 20\n",
      "Column 4, sum: 16\n"
     ]
    }
   ],
   "source": [
    "import numpy as np\n",
    "import random\n",
    "\n",
    "# Version 1\n",
    "\n",
    "df = np.zeros([5,5])\n",
    "for x in range(len(df)):\n",
    "    for z in range(len(df)):\n",
    "        df[x, z] = random.randint(1,10)\n",
    "print(df)\n",
    "for x in range(len(df)):\n",
    "    print(f\"{x} row, sum: {sum(df[x])}\")\n",
    "for x in range(len(df)):\n",
    "    print(f\"{x} column, sum: {sum(df[:, x])}\")\n",
    "\n",
    "# Version 2\n",
    "\n",
    "df = np.random.randint(1, 11, size=(5, 5))\n",
    "print(df)\n",
    "row_sums = np.sum(df, axis=1)\n",
    "for i, row_sum in enumerate(row_sums):\n",
    "    print(f\"row {i}, sum: {row_sum}\")\n",
    "column_sums = np.sum(df, axis=0)\n",
    "for i, column_sum in enumerate(column_sums):\n",
    "    print(f\"column {i}, sum: {column_sum}\")\n"
   ]
  }
 ],
 "metadata": {
  "kernelspec": {
   "display_name": "Python 3",
   "language": "python",
   "name": "python3"
  },
  "language_info": {
   "codemirror_mode": {
    "name": "ipython",
    "version": 3
   },
   "file_extension": ".py",
   "mimetype": "text/x-python",
   "name": "python",
   "nbconvert_exporter": "python",
   "pygments_lexer": "ipython3",
   "version": "3.11.3"
  },
  "orig_nbformat": 4
 },
 "nbformat": 4,
 "nbformat_minor": 2
}
