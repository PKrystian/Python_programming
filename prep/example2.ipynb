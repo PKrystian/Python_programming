{
 "cells": [
  {
   "cell_type": "code",
   "execution_count": 111,
   "metadata": {},
   "outputs": [
    {
     "name": "stdout",
     "output_type": "stream",
     "text": [
      "       Name   Surname  Math  Physics  Chemistry  Average\n",
      "0       Jan  Kowalski     4        4          5      4.3\n",
      "1      Anna     Nowak     2        2          3      2.3\n",
      "2     Piotr    Wojcik     3        5          2      3.3\n",
      "3    Maciej     Nowak     1        1          3      1.7\n",
      "4  Weronika     Polak     2        2          2      2.0\n",
      "Average Math: 3.00\n",
      "Average Physics: 3.17\n",
      "Average Chemistry: 3.33\n",
      "Student with the highest average grade:\n",
      "Name          Jerzy\n",
      "Surname      Hertaś\n",
      "Math              6\n",
      "Physics           5\n",
      "Chemistry         5\n",
      "Average         5.3\n",
      "Name: 5, dtype: object\n"
     ]
    }
   ],
   "source": [
    "import pandas as pd\n",
    "\n",
    "df = pd.read_csv(\"students.csv\")\n",
    "avg_math = sum(df[\"Math\"]) / len(df[\"Math\"])\n",
    "avg_phys = sum(df[\"Chemistry\"]) / len(df[\"Physics\"])\n",
    "avg_chem = sum(df[\"Chemistry\"]) / len(df[\"Chemistry\"])\n",
    "df[\"Average\"] = round(df.iloc[:, 2:].mean(axis=1),1)\n",
    "best_student = df.loc[df['Average'].idxmax()]\n",
    "print(df.head(5))\n",
    "print(f\"AVG Math: {avg_math}, AVG Physcics: {round(avg_phys,1)}, AVG Chemistry: {round(avg_chem,1)}\")\n",
    "print(f\"Student with best AVG grade is: {best_student}\")\n"
   ]
  }
 ],
 "metadata": {
  "kernelspec": {
   "display_name": "Python 3",
   "language": "python",
   "name": "python3"
  },
  "language_info": {
   "codemirror_mode": {
    "name": "ipython",
    "version": 3
   },
   "file_extension": ".py",
   "mimetype": "text/x-python",
   "name": "python",
   "nbconvert_exporter": "python",
   "pygments_lexer": "ipython3",
   "version": "3.11.3"
  },
  "orig_nbformat": 4
 },
 "nbformat": 4,
 "nbformat_minor": 2
}
