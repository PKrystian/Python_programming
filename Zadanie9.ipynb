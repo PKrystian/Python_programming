{
 "cells": [
  {
   "attachments": {},
   "cell_type": "markdown",
   "id": "bee326c6-0716-4c19-986a-57a2e32cb8bd",
   "metadata": {},
   "source": [
    "# 1. Zadanie"
   ]
  },
  {
   "cell_type": "code",
   "execution_count": 113,
   "id": "dcd2c727-2674-41b8-99a2-582095480230",
   "metadata": {},
   "outputs": [],
   "source": [
    "import pandas as pd\n",
    "import numpy as np\n",
    "import matplotlib.pyplot as plt\n",
    "from unicodedata import normalize\n",
    "import lxml\n",
    "\n",
    "# User-agent: *, crawl-delay: 3\n",
    "site_read = pd.read_html('http://cdv.brightcode.pl/wolneodpracy')\n",
    "qq = pd.DataFrame(site_read[0])\n",
    "qq1 = qq.loc[:,\"URL\"]\n",
    "site_read1 = pd.read_html(qq1[0])\n",
    "site_read2 = pd.read_html(qq1[1])\n",
    "\n",
    "df1 = pd.DataFrame(site_read1[0])\n",
    "df2 = pd.DataFrame(site_read1[1])\n",
    "df3 = pd.DataFrame(site_read2[0])\n",
    "df4 = pd.DataFrame(site_read2[1])"
   ]
  },
  {
   "attachments": {},
   "cell_type": "markdown",
   "id": "289e5e53-97c1-464a-b140-7c83b9c399fd",
   "metadata": {},
   "source": [
    "# 2. Zadanie"
   ]
  },
  {
   "cell_type": "code",
   "execution_count": 111,
   "id": "34aa589e-f054-418d-b7e8-c3a0ca145b7e",
   "metadata": {},
   "outputs": [],
   "source": [
    "df1['year'] = pd.Series([\"2018\" for x in range(len(df1.index))])\n",
    "df2['year'] = pd.Series([\"2018\" for x in range(len(df2.index))])\n",
    "df3['year'] = pd.Series([\"2019\" for x in range(len(df3.index))])\n",
    "df4['year'] = pd.Series([\"2019\" for x in range(len(df4.index))])\n",
    "df_days = pd.concat([df1, df3], ignore_index=True, sort=False)\n",
    "df_weekend = pd.concat([df2, df4], ignore_index=True, sort=False)\n",
    "\n",
    "df_days_csv = df_days.to_csv(index=False)\n",
    "df_weekend_csv = df_weekend.to_csv(index=False)\n",
    "\n",
    "df_days_hdf = df_days.to_hdf('days.h5', 'days_obj', format='table')\n",
    "df_weekend_hdf = df_weekend.to_hdf('weekend.h5', 'weekend_obj', format='table')"
   ]
  },
  {
   "attachments": {},
   "cell_type": "markdown",
   "id": "81c53b74-4917-4ac3-9da9-9312a473ae19",
   "metadata": {},
   "source": [
    "# 3. Zadanie"
   ]
  },
  {
   "cell_type": "code",
   "execution_count": null,
   "id": "1cfb0fc4-0aa8-4f0b-8286-c42ce95f7bc3",
   "metadata": {
    "tags": []
   },
   "outputs": [],
   "source": [
    "new_df_days = df_days\n",
    "new_df_weekend = df_weekend\n",
    "\n",
    "new_df_days['day'] = ''\n",
    "new_df_days['month'] = ''\n",
    "new_df_days['day'] = new_df_days['Data'].str.replace(r'\\D', '')\n",
    "new_df_days['month'] = new_df_days['Data'].str.replace('\\d+', '')\n",
    "new_df_weekend['month'] = ''\n",
    "new_df_weekend['month'] = new_df_weekend['Data'].str.replace('\\d+', '')"
   ]
  }
 ],
 "metadata": {
  "kernelspec": {
   "display_name": "Python 3 (ipykernel)",
   "language": "python",
   "name": "python3"
  },
  "language_info": {
   "codemirror_mode": {
    "name": "ipython",
    "version": 3
   },
   "file_extension": ".py",
   "mimetype": "text/x-python",
   "name": "python",
   "nbconvert_exporter": "python",
   "pygments_lexer": "ipython3",
   "version": "3.11.2"
  }
 },
 "nbformat": 4,
 "nbformat_minor": 5
}
