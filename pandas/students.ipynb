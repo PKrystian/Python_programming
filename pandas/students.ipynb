{
 "cells": [
  {
   "attachments": {},
   "cell_type": "markdown",
   "metadata": {},
   "source": [
    "You have data regarding exam results in a school. The task is to write a function that takes a CSV file containing the data and returns a report with the results.\n",
    "\n",
    "Function Specification:\n",
    "The function should accept two arguments:\n",
    "\n",
    "The path to the CSV file containing the data.\n",
    "The passing threshold (in percentage) for the exam.\n",
    "The function should perform the following actions:\n",
    "\n",
    "Load the data from the CSV file using the pandas library.\n",
    "Calculate the average grade for each student.\n",
    "Add a new column to the dataframe that will indicate whether the student passed the exam or not. If the average grade is greater than or equal to the passing threshold, the student passed; otherwise, they failed.\n",
    "Return the dataframe containing the results."
   ]
  },
  {
   "cell_type": "code",
   "execution_count": 28,
   "metadata": {},
   "outputs": [],
   "source": [
    "import pandas as pd\n",
    "import numpy as np"
   ]
  },
  {
   "cell_type": "code",
   "execution_count": 29,
   "metadata": {},
   "outputs": [],
   "source": [
    "def analyze_results(csv_path, pass_threshold):\n",
    "    data = pd.read_csv(csv_path)\n",
    "    numeric_data = data.select_dtypes(include=[np.number])\n",
    "    data['Average'] = numeric_data.mean(axis=1)\n",
    "    data['Pass'] = data['Average'] >= pass_threshold\n",
    "    return data\n"
   ]
  },
  {
   "cell_type": "code",
   "execution_count": 30,
   "metadata": {},
   "outputs": [
    {
     "name": "stdout",
     "output_type": "stream",
     "text": [
      "    Name   Surname  Math  Physics  Chemistry  Average   Pass\n",
      "0    Jan  Kowalski    80       70         90     80.0   True\n",
      "1   Anna     Nowak    60       65         70     65.0  False\n",
      "2  Piotr    Wojcik    70       75         80     75.0   True\n"
     ]
    }
   ],
   "source": [
    "path = \"students.csv\"\n",
    "passing_threshold = 70\n",
    "result = analyze_results(path, passing_threshold)\n",
    "print(result)"
   ]
  }
 ],
 "metadata": {
  "kernelspec": {
   "display_name": "Python 3",
   "language": "python",
   "name": "python3"
  },
  "language_info": {
   "codemirror_mode": {
    "name": "ipython",
    "version": 3
   },
   "file_extension": ".py",
   "mimetype": "text/x-python",
   "name": "python",
   "nbconvert_exporter": "python",
   "pygments_lexer": "ipython3",
   "version": "3.11.3"
  },
  "orig_nbformat": 4
 },
 "nbformat": 4,
 "nbformat_minor": 2
}
