{
 "cells": [
  {
   "cell_type": "code",
   "execution_count": 11,
   "id": "66821407",
   "metadata": {},
   "outputs": [],
   "source": [
    "#code from https://www.geeksforgeeks.org/detect-an-object-with-opencv-python/\n",
    "\n",
    "import cv2\n",
    "from matplotlib import pyplot as plt\n",
    "import numpy as np\n",
    "import os\n",
    "\n",
    "def detect_face(image_source):\n",
    "    face_detector = cv2.CascadeClassifier(os.path.join(cv2.data.haarcascades, 'haarcascade_frontalface_default.xml'))\n",
    "    img = cv2.imread(image_source)\n",
    "    gray = cv2.cvtColor(img, cv2.COLOR_BGR2GRAY)\n",
    "    faces = face_detector.detectMultiScale(gray, 1.3, 5)\n",
    "    for (x,y,w,h) in faces:\n",
    "        cv2.rectangle(img,(x,y),(x+w,y+h),(0,255,0),2)\n",
    "    cv2.imshow('img',img)\n",
    "    cv2.waitKey(0)\n",
    "    cv2.destroyAllWindows()\n",
    "\n",
    "image_source = \"person.jpg\"\n",
    "detect_face(image_source)"
   ]
  },
  {
   "cell_type": "code",
   "execution_count": 8,
   "id": "44320241",
   "metadata": {},
   "outputs": [
    {
     "name": "stderr",
     "output_type": "stream",
     "text": [
      "[INFO] tello.py - 122 - Tello instance was initialized. Host: '192.168.10.1'. Port: '8889'.\n",
      "[INFO] tello.py - 437 - Send command: 'command'\n",
      "[WARNING] tello.py - 447 - Aborting command 'command'. Did not receive a response after 7 seconds\n",
      "[INFO] tello.py - 437 - Send command: 'command'\n",
      "[WARNING] tello.py - 447 - Aborting command 'command'. Did not receive a response after 7 seconds\n",
      "[INFO] tello.py - 437 - Send command: 'command'\n"
     ]
    },
    {
     "ename": "KeyboardInterrupt",
     "evalue": "",
     "output_type": "error",
     "traceback": [
      "\u001b[1;31m---------------------------------------------------------------------------\u001b[0m",
      "\u001b[1;31mKeyboardInterrupt\u001b[0m                         Traceback (most recent call last)",
      "Cell \u001b[1;32mIn[8], line 6\u001b[0m\n\u001b[0;32m      2\u001b[0m \u001b[39mimport\u001b[39;00m \u001b[39mcv2\u001b[39;00m\n\u001b[0;32m      4\u001b[0m tello \u001b[39m=\u001b[39m Tello()\n\u001b[1;32m----> 6\u001b[0m tello\u001b[39m.\u001b[39;49mconnect()\n\u001b[0;32m      7\u001b[0m tello\u001b[39m.\u001b[39mtakeoff()\n\u001b[0;32m      8\u001b[0m tello\u001b[39m.\u001b[39mmove_forward(\u001b[39m150\u001b[39m)\n",
      "File \u001b[1;32mc:\\Users\\kryst\\AppData\\Local\\Programs\\Python\\Python311\\Lib\\site-packages\\djitellopy\\enforce_types.py:54\u001b[0m, in \u001b[0;36menforce_types.<locals>.decorate.<locals>.wrapper\u001b[1;34m(*args, **kwargs)\u001b[0m\n\u001b[0;32m     51\u001b[0m \u001b[39m@wraps\u001b[39m(func)\n\u001b[0;32m     52\u001b[0m \u001b[39mdef\u001b[39;00m \u001b[39mwrapper\u001b[39m(\u001b[39m*\u001b[39margs, \u001b[39m*\u001b[39m\u001b[39m*\u001b[39mkwargs):\n\u001b[0;32m     53\u001b[0m     check_types(spec, \u001b[39m*\u001b[39margs, \u001b[39m*\u001b[39m\u001b[39m*\u001b[39mkwargs)\n\u001b[1;32m---> 54\u001b[0m     \u001b[39mreturn\u001b[39;00m func(\u001b[39m*\u001b[39;49margs, \u001b[39m*\u001b[39;49m\u001b[39m*\u001b[39;49mkwargs)\n",
      "File \u001b[1;32mc:\\Users\\kryst\\AppData\\Local\\Programs\\Python\\Python311\\Lib\\site-packages\\djitellopy\\tello.py:534\u001b[0m, in \u001b[0;36mTello.connect\u001b[1;34m(self, wait_for_state)\u001b[0m\n\u001b[0;32m    531\u001b[0m \u001b[39mdef\u001b[39;00m \u001b[39mconnect\u001b[39m(\u001b[39mself\u001b[39m, wait_for_state\u001b[39m=\u001b[39m\u001b[39mTrue\u001b[39;00m):\n\u001b[0;32m    532\u001b[0m \u001b[39m    \u001b[39m\u001b[39m\"\"\"Enter SDK mode. Call this before any of the control functions.\u001b[39;00m\n\u001b[0;32m    533\u001b[0m \u001b[39m    \"\"\"\u001b[39;00m\n\u001b[1;32m--> 534\u001b[0m     \u001b[39mself\u001b[39;49m\u001b[39m.\u001b[39;49msend_control_command(\u001b[39m\"\u001b[39;49m\u001b[39mcommand\u001b[39;49m\u001b[39m\"\u001b[39;49m)\n\u001b[0;32m    536\u001b[0m     \u001b[39mif\u001b[39;00m wait_for_state:\n\u001b[0;32m    537\u001b[0m         REPS \u001b[39m=\u001b[39m \u001b[39m20\u001b[39m\n",
      "File \u001b[1;32mc:\\Users\\kryst\\AppData\\Local\\Programs\\Python\\Python311\\Lib\\site-packages\\djitellopy\\enforce_types.py:54\u001b[0m, in \u001b[0;36menforce_types.<locals>.decorate.<locals>.wrapper\u001b[1;34m(*args, **kwargs)\u001b[0m\n\u001b[0;32m     51\u001b[0m \u001b[39m@wraps\u001b[39m(func)\n\u001b[0;32m     52\u001b[0m \u001b[39mdef\u001b[39;00m \u001b[39mwrapper\u001b[39m(\u001b[39m*\u001b[39margs, \u001b[39m*\u001b[39m\u001b[39m*\u001b[39mkwargs):\n\u001b[0;32m     53\u001b[0m     check_types(spec, \u001b[39m*\u001b[39margs, \u001b[39m*\u001b[39m\u001b[39m*\u001b[39mkwargs)\n\u001b[1;32m---> 54\u001b[0m     \u001b[39mreturn\u001b[39;00m func(\u001b[39m*\u001b[39;49margs, \u001b[39m*\u001b[39;49m\u001b[39m*\u001b[39;49mkwargs)\n",
      "File \u001b[1;32mc:\\Users\\kryst\\AppData\\Local\\Programs\\Python\\Python311\\Lib\\site-packages\\djitellopy\\tello.py:479\u001b[0m, in \u001b[0;36mTello.send_control_command\u001b[1;34m(self, command, timeout)\u001b[0m\n\u001b[0;32m    477\u001b[0m response \u001b[39m=\u001b[39m \u001b[39m\"\u001b[39m\u001b[39mmax retries exceeded\u001b[39m\u001b[39m\"\u001b[39m\n\u001b[0;32m    478\u001b[0m \u001b[39mfor\u001b[39;00m i \u001b[39min\u001b[39;00m \u001b[39mrange\u001b[39m(\u001b[39m0\u001b[39m, \u001b[39mself\u001b[39m\u001b[39m.\u001b[39mretry_count):\n\u001b[1;32m--> 479\u001b[0m     response \u001b[39m=\u001b[39m \u001b[39mself\u001b[39;49m\u001b[39m.\u001b[39;49msend_command_with_return(command, timeout\u001b[39m=\u001b[39;49mtimeout)\n\u001b[0;32m    481\u001b[0m     \u001b[39mif\u001b[39;00m \u001b[39m'\u001b[39m\u001b[39mok\u001b[39m\u001b[39m'\u001b[39m \u001b[39min\u001b[39;00m response\u001b[39m.\u001b[39mlower():\n\u001b[0;32m    482\u001b[0m         \u001b[39mreturn\u001b[39;00m \u001b[39mTrue\u001b[39;00m\n",
      "File \u001b[1;32mc:\\Users\\kryst\\AppData\\Local\\Programs\\Python\\Python311\\Lib\\site-packages\\djitellopy\\enforce_types.py:54\u001b[0m, in \u001b[0;36menforce_types.<locals>.decorate.<locals>.wrapper\u001b[1;34m(*args, **kwargs)\u001b[0m\n\u001b[0;32m     51\u001b[0m \u001b[39m@wraps\u001b[39m(func)\n\u001b[0;32m     52\u001b[0m \u001b[39mdef\u001b[39;00m \u001b[39mwrapper\u001b[39m(\u001b[39m*\u001b[39margs, \u001b[39m*\u001b[39m\u001b[39m*\u001b[39mkwargs):\n\u001b[0;32m     53\u001b[0m     check_types(spec, \u001b[39m*\u001b[39margs, \u001b[39m*\u001b[39m\u001b[39m*\u001b[39mkwargs)\n\u001b[1;32m---> 54\u001b[0m     \u001b[39mreturn\u001b[39;00m func(\u001b[39m*\u001b[39;49margs, \u001b[39m*\u001b[39;49m\u001b[39m*\u001b[39;49mkwargs)\n",
      "File \u001b[1;32mc:\\Users\\kryst\\AppData\\Local\\Programs\\Python\\Python311\\Lib\\site-packages\\djitellopy\\tello.py:449\u001b[0m, in \u001b[0;36mTello.send_command_with_return\u001b[1;34m(self, command, timeout)\u001b[0m\n\u001b[0;32m    447\u001b[0m         \u001b[39mself\u001b[39m\u001b[39m.\u001b[39mLOGGER\u001b[39m.\u001b[39mwarning(message)\n\u001b[0;32m    448\u001b[0m         \u001b[39mreturn\u001b[39;00m message\n\u001b[1;32m--> 449\u001b[0m     time\u001b[39m.\u001b[39;49msleep(\u001b[39m0.1\u001b[39;49m)  \u001b[39m# Sleep during send command\u001b[39;00m\n\u001b[0;32m    451\u001b[0m \u001b[39mself\u001b[39m\u001b[39m.\u001b[39mlast_received_command_timestamp \u001b[39m=\u001b[39m time\u001b[39m.\u001b[39mtime()\n\u001b[0;32m    453\u001b[0m first_response \u001b[39m=\u001b[39m responses\u001b[39m.\u001b[39mpop(\u001b[39m0\u001b[39m)  \u001b[39m# first datum from socket\u001b[39;00m\n",
      "\u001b[1;31mKeyboardInterrupt\u001b[0m: "
     ]
    }
   ],
   "source": [
    "from djitellopy import Tello\n",
    "import cv2\n",
    "\n",
    "tello = Tello()\n",
    "\n",
    "tello.connect()\n",
    "tello.takeoff()\n",
    "tello.move_forward(150)\n",
    "tello.rotate_counter_clockwise(90)\n",
    "tello.streamon()\n",
    "frame_read = tello.get_frame_read()\n",
    "cv2.imwrite(image_source, frame_read.frame)\n",
    "\n",
    "tello.land()"
   ]
  },
  {
   "cell_type": "code",
   "execution_count": null,
   "id": "4d66649f",
   "metadata": {},
   "outputs": [],
   "source": []
  }
 ],
 "metadata": {
  "kernelspec": {
   "display_name": "Python 3 (ipykernel)",
   "language": "python",
   "name": "python3"
  },
  "language_info": {
   "codemirror_mode": {
    "name": "ipython",
    "version": 3
   },
   "file_extension": ".py",
   "mimetype": "text/x-python",
   "name": "python",
   "nbconvert_exporter": "python",
   "pygments_lexer": "ipython3",
   "version": "3.11.2"
  }
 },
 "nbformat": 4,
 "nbformat_minor": 5
}
