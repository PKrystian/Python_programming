{
 "cells": [
  {
   "cell_type": "markdown",
   "id": "6c6b0e84-395c-4501-b5f6-5ff743625ca2",
   "metadata": {},
   "source": [
    "Krystian Pinczak Zadanie 5 Uczenie maszynowe"
   ]
  },
  {
   "cell_type": "markdown",
   "id": "5084747f-8587-4858-a0ea-dbb4a4bdd504",
   "metadata": {},
   "source": [
    "1. Zadanie"
   ]
  },
  {
   "cell_type": "code",
   "execution_count": 12,
   "id": "308bc6bb-579d-4c1e-8e13-c69e2f547288",
   "metadata": {},
   "outputs": [
    {
     "data": {
      "text/plain": [
       "['London', 'Zakopane', 'Tokyo']"
      ]
     },
     "execution_count": 12,
     "metadata": {},
     "output_type": "execute_result"
    }
   ],
   "source": [
    "cities = ['London', 'Zakopane', 'Krakow', 'Tokyo', 'Amsterdam']\n",
    "\n",
    "[city for city in cities if city[0] > 'K']\n"
   ]
  },
  {
   "cell_type": "code",
   "execution_count": 13,
   "id": "4c9c2db7-c2e8-41d5-b22a-ed74cf611682",
   "metadata": {},
   "outputs": [
    {
     "data": {
      "text/plain": [
       "['Zakopane', 'Amsterdam']"
      ]
     },
     "execution_count": 13,
     "metadata": {},
     "output_type": "execute_result"
    }
   ],
   "source": [
    "[city for city in cities if len(city) > 6]"
   ]
  },
  {
   "cell_type": "markdown",
   "id": "b3c2d321-4fb0-4616-806b-6b3aaf2b736f",
   "metadata": {},
   "source": [
    "2. Zadanie"
   ]
  },
  {
   "cell_type": "code",
   "execution_count": 15,
   "id": "c2e9fa37-ad61-4d8e-973b-876a558c6177",
   "metadata": {},
   "outputs": [
    {
     "name": "stdin",
     "output_type": "stream",
     "text": [
      "Podaj ktory miesiac chcesz wyswietlic 3\n"
     ]
    },
    {
     "data": {
      "text/plain": [
       "'Marzec'"
      ]
     },
     "execution_count": 15,
     "metadata": {},
     "output_type": "execute_result"
    }
   ],
   "source": [
    " calendar = {\n",
    "    '1' : 'Styczen',\n",
    "    '2' : 'Luty',\n",
    "    '3' : 'Marzec',\n",
    "    '4' : 'Kwiecien',\n",
    "    '5' : 'Maj',\n",
    "    '6' : 'Czerwiec',\n",
    "    '7' : 'Lipiec',\n",
    "    '8' : 'Sierpien',\n",
    "    '9' : 'Wrzesen',\n",
    "    '10' : 'Pazdziernik',\n",
    "    '11' : 'Listopad',\n",
    "    '12' : 'Grudzien',\n",
    " }\n",
    "ninput = input(\"Podaj ktory miesiac chcesz wyswietlic\")\n",
    "calendar[ninput]"
   ]
  },
  {
   "cell_type": "markdown",
   "id": "13c3bb78-ac4e-40f8-91ea-1c62dd579567",
   "metadata": {},
   "source": [
    "3. Zadanie"
   ]
  },
  {
   "cell_type": "code",
   "execution_count": 20,
   "id": "506d00eb-77d5-493e-bb70-fbec5d73b863",
   "metadata": {},
   "outputs": [
    {
     "data": {
      "text/plain": [
       "{1, 2, 3, 4, 5, 6, 7, 8}"
      ]
     },
     "execution_count": 20,
     "metadata": {},
     "output_type": "execute_result"
    }
   ],
   "source": [
    "zbior1 = {1, 2, 3, 4, 5}\n",
    "zbior2 = {3, 4, 5, 6, 7, 8}\n",
    "zbior1 | zbior2"
   ]
  },
  {
   "cell_type": "code",
   "execution_count": 21,
   "id": "8d148604-b19a-47a0-a599-5f10f05b76fc",
   "metadata": {},
   "outputs": [
    {
     "data": {
      "text/plain": [
       "{3, 4, 5}"
      ]
     },
     "execution_count": 21,
     "metadata": {},
     "output_type": "execute_result"
    }
   ],
   "source": [
    "zbior1 & zbior2"
   ]
  },
  {
   "cell_type": "code",
   "execution_count": 38,
   "id": "13c84776-3e8f-416d-89ef-9b16d7014461",
   "metadata": {},
   "outputs": [
    {
     "name": "stdout",
     "output_type": "stream",
     "text": [
      "{1, 2, 6, 7, 8}\n"
     ]
    }
   ],
   "source": [
    "print (zbior1 - zbior2 | zbior2 - zbior1)"
   ]
  },
  {
   "cell_type": "markdown",
   "id": "ac33bd2f-3fd8-4b19-b25c-88665b15683e",
   "metadata": {},
   "source": [
    "4. Zadanie"
   ]
  },
  {
   "cell_type": "code",
   "execution_count": 1,
   "id": "2c66bd02-a3bf-401a-8528-74b5cef44959",
   "metadata": {},
   "outputs": [
    {
     "name": "stdin",
     "output_type": "stream",
     "text": [
      "Podaj promien kola: 4\n"
     ]
    },
    {
     "data": {
      "text/plain": [
       "(50.264, 25.132)"
      ]
     },
     "execution_count": 1,
     "metadata": {},
     "output_type": "execute_result"
    }
   ],
   "source": [
    "pi = 3.1415\n",
    "def circle():\n",
    "    cinput = int(input(\"Podaj promien kola:\"))\n",
    "    return pi*(cinput*cinput), (2*pi)*cinput\n",
    "circle()"
   ]
  },
  {
   "cell_type": "markdown",
   "id": "a66dabd9-c598-4b85-9092-9bb2f400dd6f",
   "metadata": {},
   "source": [
    "5. Zadanie"
   ]
  },
  {
   "cell_type": "code",
   "execution_count": 58,
   "id": "e1ed5638-799b-493c-8929-2f0b18d0a8b6",
   "metadata": {},
   "outputs": [
    {
     "name": "stdin",
     "output_type": "stream",
     "text": [
      "Podaj swoj tekst:  zdanie pierwsze\n",
      "Podaj swoj tekst:  drugie zdanie\n",
      "Podaj swoj tekst:  trzecie zdanie trzecie\n",
      "Podaj swoj tekst:  \n"
     ]
    }
   ],
   "source": [
    "f= open(\"text.txt\",\"w+\")\n",
    "i = 1\n",
    "j = 1\n",
    "user_input = \"\"\n",
    "while i < 5:\n",
    "    user_input = input(\"Podaj swoj tekst: \")\n",
    "    if user_input == \"\":\n",
    "        i=5\n",
    "    else:\n",
    "        f.write(\"%d \"% (j))\n",
    "        f.write(user_input)\n",
    "        f.write('\\n')\n",
    "        j=j+1\n",
    "f.close()"
   ]
  },
  {
   "cell_type": "code",
   "execution_count": null,
   "id": "5ba38358-66f3-420e-bd54-2ddd0c6fda97",
   "metadata": {},
   "outputs": [],
   "source": [
    "6. Zadanie"
   ]
  },
  {
   "cell_type": "code",
   "execution_count": 59,
   "id": "68637f4d-25b6-4ce7-92cc-d60f0eada4ec",
   "metadata": {},
   "outputs": [
    {
     "name": "stdin",
     "output_type": "stream",
     "text": [
      "Podaj swoje imie:  Hubert\n",
      "Podaj swoje nazwisko:  Nowak\n",
      "Podaj swoje wiek:  32\n",
      "Podaj swoje imie:  Bartosz\n",
      "Podaj swoje nazwisko:  Kowal\n",
      "Podaj swoje wiek:  56\n",
      "Podaj swoje imie:  Krzysztof\n",
      "Podaj swoje nazwisko:  Mol\n",
      "Podaj swoje wiek:  15\n",
      "Podaj swoje imie:  \n",
      "Podaj swoje nazwisko:  \n",
      "Podaj swoje wiek:  \n"
     ]
    },
    {
     "name": "stdout",
     "output_type": "stream",
     "text": [
      "1 Imię: Hubert, Nazwisko: Nowak, Wiek: 32\n",
      "\n",
      "2 Imię: Bartosz, Nazwisko: Kowal, Wiek: 56\n",
      "\n",
      "3 Imię: Krzysztof, Nazwisko: Mol, Wiek: 15\n",
      "\n"
     ]
    }
   ],
   "source": [
    "user_name = []\n",
    "user_subname = []\n",
    "user_age = []\n",
    "name_input = \"\"\n",
    "subname_input = \"\"\n",
    "age_input = 0\n",
    "i = 1\n",
    "j = 0\n",
    "k = 0\n",
    "f= open(\"people.txt\",\"w+\")\n",
    "while i < 5:\n",
    "    name_input = input(\"Podaj swoje imie: \")\n",
    "    user_name.append(name_input)\n",
    "    subname_input = input(\"Podaj swoje nazwisko: \")\n",
    "    user_subname.append(subname_input)\n",
    "    age_input = input(\"Podaj swoje wiek: \")\n",
    "    user_age.append(age_input)\n",
    "    if (name_input == \"\") or (subname_input == \"\") or (age_input == \"\"):\n",
    "        while k < j:\n",
    "            f.write(\"%d \"% (k+1))\n",
    "            f.write(\"Imię: \")\n",
    "            x_name = user_name[k]\n",
    "            f.write(x_name)\n",
    "            f.write(\", Nazwisko: \")\n",
    "            x_subname = user_subname[k]\n",
    "            f.write(x_subname)\n",
    "            f.write(\", Wiek: \")\n",
    "            x_age = user_age[k]\n",
    "            f.write(x_age)\n",
    "            f.write('\\n')\n",
    "            k=k+1\n",
    "        i=5\n",
    "    j=j+1\n",
    "f.close()\n",
    "f= open(\"people.txt\",\"r+\")\n",
    "f1= f.readlines()\n",
    "for x in f1:\n",
    "    print(x)\n",
    "f.close()"
   ]
  }
 ],
 "metadata": {
  "kernelspec": {
   "display_name": "Python 3 (ipykernel)",
   "language": "python",
   "name": "python3"
  },
  "language_info": {
   "codemirror_mode": {
    "name": "ipython",
    "version": 3
   },
   "file_extension": ".py",
   "mimetype": "text/x-python",
   "name": "python",
   "nbconvert_exporter": "python",
   "pygments_lexer": "ipython3",
   "version": "3.10.7"
  }
 },
 "nbformat": 4,
 "nbformat_minor": 5
}
