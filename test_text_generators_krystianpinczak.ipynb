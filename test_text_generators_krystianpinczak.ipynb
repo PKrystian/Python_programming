{
 "cells": [
  {
   "attachments": {},
   "cell_type": "markdown",
   "id": "d14339fe",
   "metadata": {},
   "source": [
    "Notebook presents usage of text transformers fo text paraphrasing."
   ]
  },
  {
   "attachments": {},
   "cell_type": "markdown",
   "id": "859ccc04",
   "metadata": {},
   "source": [
    "## Text used\n",
    "CompanyHouse is commercial register and business information web portal. With over 8.5 million companies and executives, CompanyHouse is the most comprehensive free source for up-to-date company and business information. We intelligently link data from public sources about companies, people and markets and thus support small and micro-enterprises in establishing and expanding their business relationships.              \n",
    "              \n",
    "Managers:\n",
    "Johannes Stoll, Dr. Ole Schröder, Tanja Birkholz\n",
    "Previous signatories:\n",
    "Jens Holger Junak, Michael Glaßner, Brigitte Reiß, Andrea Störmann, Evelyn Koch \n",
    "              \n",
    "13.01.2023\n",
    "New publication: change\n",
    "13.01.2023\n",
    "New register documents Historical commercial register extract, chronological commercial register extract and current commercial register extract available\n",
    "11.10.2022\n",
    "New publication: change\n",
    "21.09.2022\n",
    "New ownership information released\n",
    "02.08.2022\n",
    "Change in creditworthiness due to new credit limit bar\n"
   ]
  },
  {
   "attachments": {},
   "cell_type": "markdown",
   "id": "265907bc",
   "metadata": {},
   "source": [
    "## Translation phrase into eng"
   ]
  },
  {
   "cell_type": "code",
   "execution_count": 2,
   "id": "77e9a798",
   "metadata": {},
   "outputs": [],
   "source": [
    "text = '''CompanyHouse is commercial register and business information web portal. With over 8.5 million companies and executives, CompanyHouse is the most comprehensive free source for up-to-date company and business information. We intelligently link data from public sources about companies, people and markets and thus support small and micro-enterprises in establishing and expanding their business relationships.              \n",
    "              \n",
    "Managers: Johannes Stoll, Dr. Ole Schröder, Tanja Birkholz\n",
    "Previous signatories: Jens Holger Junak, Michael Glaßner, Brigitte Reiß, Andrea Störmann, Evelyn Koch \n",
    "              \n",
    "13.01.2023\n",
    "New publication: change\n",
    "13.01.2023\n",
    "New register documents Historical commercial register extract, chronological commercial register extract and current commercial register extract available\n",
    "11.10.2022\n",
    "New publication: change\n",
    "21.09.2022\n",
    "New ownership information released\n",
    "02.08.2022\n",
    "'''\n"
   ]
  },
  {
   "attachments": {},
   "cell_type": "markdown",
   "id": "bd6a9b60",
   "metadata": {},
   "source": [
    "# Testing Models"
   ]
  },
  {
   "attachments": {},
   "cell_type": "markdown",
   "id": "c702536d",
   "metadata": {},
   "source": [
    "https://huggingface.co/docs/transformers/main_classes/text_generation#transformers.generation_utils.GenerationMixin.generate.do_sample\n",
    "\n",
    "https://huggingface.co/models\n",
    "\n",
    "Parameters:\n",
    "* temperature (float, optional, defaults to 1.0) — The value used to module the next token probabilities.\n",
    "* max_new_tokens (int, optional, defaults to None) — The maximum numbers of tokens to generate, ignore the current number of tokens. Use either max_new_tokens or max_length but not both, they serve the same purpose.\n",
    "* do_sample (bool, optional, defaults to False) — Whether or not to use sampling ; use greedy decoding otherwise.\n",
    "* top_k (int, optional, defaults to 50) — The number of highest probability vocabulary tokens to keep for top-k-filtering.\n",
    "* num_return_sequences(int, optional, defaults to 1) — The number of independently computed returned sequences for each element in the batch."
   ]
  },
  {
   "cell_type": "code",
   "execution_count": 3,
   "id": "2edf4015",
   "metadata": {},
   "outputs": [],
   "source": [
    "from transformers import AutoTokenizer, AutoModelWithLMHead, pipeline\n",
    "import warnings\n",
    "warnings.filterwarnings(\"ignore\")\n",
    "def download_model_pipe(model_name, pipe_type='text-generation'):\n",
    "    tokenizer = AutoTokenizer.from_pretrained(model_name)\n",
    "    model = AutoModelWithLMHead.from_pretrained(model_name)\n",
    "    pipe = pipeline(pipe_type, model=model, tokenizer=tokenizer)\n",
    "    return pipe\n",
    "\n",
    "import nlpaug.augmenter.char as nac\n",
    "import nlpaug.augmenter.word as naw\n",
    "import nlpaug.augmenter.sentence as nas\n",
    "import nlpaug.flow as nafc\n",
    "\n",
    "from nlpaug.util import Action"
   ]
  },
  {
   "attachments": {},
   "cell_type": "markdown",
   "id": "cf29b7cf",
   "metadata": {},
   "source": [
    "## gpt2"
   ]
  },
  {
   "cell_type": "code",
   "execution_count": 4,
   "id": "66727ec8",
   "metadata": {
    "scrolled": true
   },
   "outputs": [
    {
     "name": "stderr",
     "output_type": "stream",
     "text": [
      "Setting `pad_token_id` to `eos_token_id`:50256 for open-end generation.\n"
     ]
    },
    {
     "name": "stdout",
     "output_type": "stream",
     "text": [
      "1. 17 months before release date of a new business registration document\n",
      "1 week prior to release date of any other document\n",
      "14 days prior to release date of any other document\n",
      "16 weeks prior to release date of any other document\n",
      "1 year prior to release\n",
      "2. New commercial register and sales records\n",
      "10.09.2022\n",
      "New sales documents\n",
      "31.08.2022\n",
      "Change to current commercial register and sales records and business records of company\n",
      "15.08.2022\n",
      "11.03.\n",
      "3. New filing records for company name and business address\n",
      "01.04.2022\n",
      "CompanyHouse update\n",
      "05.19.2022\n",
      "Paste of Company House report on company's sales in November 2010 to date [3]\n",
      "[4]\n",
      "CPU times: total: 15 s\n",
      "Wall time: 17.5 s\n"
     ]
    }
   ],
   "source": [
    "%%time\n",
    "pipe = download_model_pipe(\"gpt2\")\n",
    "tests_generated = pipe(text, max_new_tokens=50,temperature=0.99, do_sample=True, top_k=50, num_return_sequences=3)\n",
    "for n,text_generated in enumerate(tests_generated):\n",
    "    print(str(n+1) + '. '+ text_generated['generated_text'].split(text)[1])"
   ]
  },
  {
   "attachments": {},
   "cell_type": "markdown",
   "id": "8fc1e732",
   "metadata": {},
   "source": [
    "## EleutherAI/gpt-j-6B"
   ]
  },
  {
   "attachments": {},
   "cell_type": "markdown",
   "id": "5e43bf38",
   "metadata": {},
   "source": [
    "## GPT-J \n",
    "is to bigggest model - but due to small resources, I could use a small version of it \n"
   ]
  },
  {
   "cell_type": "code",
   "execution_count": 5,
   "id": "4a74abd4",
   "metadata": {},
   "outputs": [
    {
     "name": "stderr",
     "output_type": "stream",
     "text": [
      "Some weights of the model checkpoint at hf-internal-testing/tiny-random-gptj were not used when initializing GPTJForCausalLM: ['h.4.mlp.fc_in.bias', 'h.1.ln_1.bias', 'h.2.attn.v_proj.weight', 'h.2.attn.bias', 'h.0.attn.v_proj.weight', 'h.2.attn.q_proj.weight', 'h.0.attn.out_proj.weight', 'h.2.mlp.fc_in.bias', 'h.2.ln_1.weight', 'h.0.ln_1.bias', 'ln_f.bias', 'h.2.mlp.fc_out.bias', 'h.1.mlp.fc_out.weight', 'h.2.attn.out_proj.weight', 'h.0.attn.bias', 'h.1.attn.masked_bias', 'h.2.mlp.fc_out.weight', 'h.4.ln_1.weight', 'h.3.attn.masked_bias', 'h.0.mlp.fc_in.bias', 'h.4.attn.v_proj.weight', 'h.1.attn.v_proj.weight', 'h.4.mlp.fc_out.weight', 'ln_f.weight', 'h.0.attn.k_proj.weight', 'h.3.attn.q_proj.weight', 'h.1.mlp.fc_in.weight', 'h.2.attn.masked_bias', 'h.1.attn.out_proj.weight', 'score.weight', 'h.3.mlp.fc_in.weight', 'h.3.mlp.fc_out.bias', 'h.3.attn.v_proj.weight', 'h.4.attn.bias', 'h.1.attn.q_proj.weight', 'h.3.attn.k_proj.weight', 'h.4.attn.out_proj.weight', 'h.3.attn.bias', 'wte.weight', 'h.1.attn.bias', 'h.1.attn.k_proj.weight', 'h.2.attn.k_proj.weight', 'h.4.ln_1.bias', 'h.3.mlp.fc_out.weight', 'h.0.mlp.fc_out.bias', 'h.3.ln_1.weight', 'h.1.mlp.fc_in.bias', 'h.0.attn.q_proj.weight', 'h.0.ln_1.weight', 'h.4.mlp.fc_out.bias', 'h.0.attn.masked_bias', 'h.4.attn.q_proj.weight', 'h.2.ln_1.bias', 'h.4.attn.k_proj.weight', 'h.0.mlp.fc_in.weight', 'h.0.mlp.fc_out.weight', 'h.3.mlp.fc_in.bias', 'h.4.mlp.fc_in.weight', 'h.2.mlp.fc_in.weight', 'h.4.attn.masked_bias', 'h.1.mlp.fc_out.bias', 'h.3.attn.out_proj.weight', 'h.3.ln_1.bias', 'h.1.ln_1.weight']\n",
      "- This IS expected if you are initializing GPTJForCausalLM from the checkpoint of a model trained on another task or with another architecture (e.g. initializing a BertForSequenceClassification model from a BertForPreTraining model).\n",
      "- This IS NOT expected if you are initializing GPTJForCausalLM from the checkpoint of a model that you expect to be exactly identical (initializing a BertForSequenceClassification model from a BertForSequenceClassification model).\n"
     ]
    },
    {
     "name": "stdout",
     "output_type": "stream",
     "text": [
      "1. om� I� r dis00 othereyledent belwoCqu�ey goterateivers whenyp 3 12yp � thanightweenather 17~� rend+P V finy 18 setouth MF number loc�ey\n",
      "2. yp proallug accquah poac\\ per�a bel am\\av im aboutl 5ome used 8O0 l� 9 in exNvedime-@ageical byialed Ryprosootoughordѧ themelf\n",
      "3. � found�� fin morehn him severalastC� isoot po�rossvel S Alug Anach agpquahllmericend trans imN film ear epis en team� f on de]emb fial sc�quine\n",
      "CPU times: total: 1.23 s\n",
      "Wall time: 1.83 s\n"
     ]
    }
   ],
   "source": [
    "%%time\n",
    "pipe = download_model_pipe('hf-internal-testing/tiny-random-gptj')\n",
    "tests_generated = pipe(text, max_new_tokens=50,temperature=0.1, do_sample=True, top_k=20, num_return_sequences=3)\n",
    "for n,text_generated in enumerate(tests_generated):\n",
    "    print(str(n+1) + '. '+ text_generated['generated_text'].split(text)[1])"
   ]
  },
  {
   "attachments": {},
   "cell_type": "markdown",
   "id": "ccb232e2",
   "metadata": {},
   "source": [
    "## GPT-NEO \n",
    "smaller than GPT by half, here too I had to use a smaller version (half of the main model)"
   ]
  },
  {
   "cell_type": "code",
   "execution_count": 6,
   "id": "b7b1f18a",
   "metadata": {},
   "outputs": [
    {
     "name": "stderr",
     "output_type": "stream",
     "text": [
      "Setting `pad_token_id` to `eos_token_id`:50256 for open-end generation.\n"
     ]
    },
    {
     "name": "stdout",
     "output_type": "stream",
     "text": [
      "1. New publication: change\n",
      "02.08.2022\n",
      "New register documents Historical commercial register extract, chronological commercial register extract and current commercial register extract available\n",
      "02.08.2022\n",
      "New publication: change\n",
      "02.08.2022\n",
      "\n",
      "2. New publication: change\n",
      "02.08.2022\n",
      "New register documents Historical commercial register extract, chronological commercial register extract and current commercial register extract available\n",
      "02.08.2022\n",
      "New publication: change\n",
      "02.08.2022\n",
      "\n",
      "3. New publication: change\n",
      "05.08.2022\n",
      "New publication: change\n",
      "06.08.2022\n",
      "New publication: change\n",
      "07.08.2022\n",
      "New publication: change\n",
      "08.08.2022\n",
      "New publication\n",
      "CPU times: total: 2min 3s\n",
      "Wall time: 2min 15s\n"
     ]
    }
   ],
   "source": [
    "%%time\n",
    "pipe = download_model_pipe('EleutherAI/gpt-neo-1.3B')\n",
    "tests_generated = pipe(text, max_new_tokens=50,temperature=0.09, do_sample=True, top_k=20, num_return_sequences=3)\n",
    "for n,text_generated in enumerate(tests_generated):\n",
    "    print(str(n+1) + '. '+ text_generated['generated_text'].split(text)[1])\n"
   ]
  },
  {
   "cell_type": "code",
   "execution_count": 7,
   "id": "fd2d250e",
   "metadata": {
    "scrolled": true
   },
   "outputs": [
    {
     "name": "stderr",
     "output_type": "stream",
     "text": [
      "Setting `pad_token_id` to `eos_token_id`:50256 for open-end generation.\n"
     ]
    },
    {
     "name": "stdout",
     "output_type": "stream",
     "text": [
      "1. New publication: change\n",
      "08.08.2022\n",
      "New publication: change\n",
      "03.31.2022\n",
      "New publication: change\n",
      "06.03.2022\n",
      "New ownership information released\n",
      "20.03.2022\n",
      "New publication\n",
      "2. New register documents Historical commercial register extract and chronological commercial register extract available\n",
      "15.05.2021\n",
      "Changes made by the owner: Michael Glaßner, Christiane Fink, Johannes Stoll\n",
      "11.05.2021\n",
      "New\n",
      "3. Change of ownership information\n",
      "\n",
      "CompanyHouse\n",
      "\n",
      "Company House is commercial register and business information web portal. With over 8.5 million companies and executives, CompanyHouse is the most comprehensive free source for up-to-date company and business information.\n",
      "CPU times: total: 2min 30s\n",
      "Wall time: 3min 54s\n"
     ]
    }
   ],
   "source": [
    "%%time\n",
    "pipe = download_model_pipe('EleutherAI/gpt-neo-1.3B')\n",
    "tests_generated = pipe(text, max_new_tokens=50,temperature=0.99, do_sample=True, top_k=20, num_return_sequences=3)\n",
    "for n,text_generated in enumerate(tests_generated):\n",
    "    print(str(n+1) + '. '+ text_generated['generated_text'].split(text)[1])\n"
   ]
  },
  {
   "attachments": {},
   "cell_type": "markdown",
   "id": "643c6652",
   "metadata": {},
   "source": [
    "## nlpaug text generator"
   ]
  },
  {
   "cell_type": "code",
   "execution_count": 8,
   "id": "415584c8",
   "metadata": {},
   "outputs": [
    {
     "name": "stdout",
     "output_type": "stream",
     "text": [
      "Original:\n",
      "CompanyHouse is commercial register and business information web portal. With over 8.5 million companies and executives, CompanyHouse is the most comprehensive free source for up-to-date company and business information. We intelligently link data from public sources about companies, people and markets and thus support small and micro-enterprises in establishing and expanding their business relationships.              \n",
      "              \n",
      "Managers: Johannes Stoll, Dr. Ole Schröder, Tanja Birkholz\n",
      "Previous signatories: Jens Holger Junak, Michael Glaßner, Brigitte Reiß, Andrea Störmann, Evelyn Koch \n",
      "              \n",
      "13.01.2023\n",
      "New publication: change\n",
      "13.01.2023\n",
      "New register documents Historical commercial register extract, chronological commercial register extract and current commercial register extract available\n",
      "11.10.2022\n",
      "New publication: change\n",
      "21.09.2022\n",
      "New ownership information released\n",
      "02.08.2022\n",
      "\n",
      "Augmented Text:\n",
      "CompanyHouse is commercial register and business information web portal. With over 8.5 million companies and executives, CompanyHouse is the most comprehensive free source for up-to-date company and business information. We intelligently link data from public sources about companies, people and markets and thus support small and micro-enterprises in establishing and expanding their business relationships.              \n",
      "              \n",
      "Managers: Johannes Stoll, Dr. Ole Schröder, Tanja Birkholz\n",
      "Previous signatories: Jens Holger Junak, Michael Glaßner, Brigitte Reiß, Andrea Störmann, Evelyn Koch \n",
      "              \n",
      "13.01.2023\n",
      "New publication: change\n",
      "13.01.2023\n",
      "New register documents Historical commercial register extract, chronological commercial register extract and current commercial register extract available\n",
      "11.10.2022\n",
      "New publication: change\n",
      "21.09.2022\n",
      "New ownership information released\n",
      "02.08.2022 - : and 's ) : the with ; to <|endoftext|> , - - on 's to .\n",
      "CompanyHouse is commercial register and business information web portal. With over 8.5 million companies and executives, CompanyHouse is the most comprehensive free source for up-to-date company and business information. We intelligently link data from public sources about companies, people and markets and thus support small and micro-enterprises in establishing and expanding their business relationships.              \n",
      "              \n",
      "Managers: Johannes Stoll, Dr. Ole Schröder, Tanja Birkholz\n",
      "Previous signatories: Jens Holger Junak, Michael Glaßner, Brigitte Reiß, Andrea Störmann, Evelyn Koch \n",
      "              \n",
      "13.01.2023\n",
      "New publication: change\n",
      "13.01.2023\n",
      "New register documents Historical commercial register extract, chronological commercial register extract and current commercial register extract available\n",
      "11.10.2022\n",
      "New publication: change\n",
      "21.09.2022\n",
      "New ownership information released\n",
      "02.08.2022 , \" - with .\n",
      "CompanyHouse is commercial register and business information web portal. With over 8.5 million companies and executives, CompanyHouse is the most comprehensive free source for up-to-date company and business information. We intelligently link data from public sources about companies, people and markets and thus support small and micro-enterprises in establishing and expanding their business relationships.              \n",
      "              \n",
      "Managers: Johannes Stoll, Dr. Ole Schröder, Tanja Birkholz\n",
      "Previous signatories: Jens Holger Junak, Michael Glaßner, Brigitte Reiß, Andrea Störmann, Evelyn Koch \n",
      "              \n",
      "13.01.2023\n",
      "New publication: change\n",
      "13.01.2023\n",
      "New register documents Historical commercial register extract, chronological commercial register extract and current commercial register extract available\n",
      "11.10.2022\n",
      "New publication: change\n",
      "21.09.2022\n",
      "New ownership information released\n",
      "02.08.2022 .\n"
     ]
    }
   ],
   "source": [
    "aug = nas.ContextualWordEmbsForSentenceAug(model_path='gpt2')\n",
    "augmented_text = aug.augment(text, n=3)\n",
    "print(\"Original:\")\n",
    "print(text)\n",
    "print(\"Augmented Text:\")\n",
    "for i in augmented_text:\n",
    "    print(i)"
   ]
  },
  {
   "cell_type": "code",
   "execution_count": 9,
   "id": "0a792406",
   "metadata": {},
   "outputs": [
    {
     "name": "stdout",
     "output_type": "stream",
     "text": [
      "Original:\n",
      "CompanyHouse is commercial register and business information web portal. With over 8.5 million companies and executives, CompanyHouse is the most comprehensive free source for up-to-date company and business information. We intelligently link data from public sources about companies, people and markets and thus support small and micro-enterprises in establishing and expanding their business relationships.              \n",
      "              \n",
      "Managers: Johannes Stoll, Dr. Ole Schröder, Tanja Birkholz\n",
      "Previous signatories: Jens Holger Junak, Michael Glaßner, Brigitte Reiß, Andrea Störmann, Evelyn Koch \n",
      "              \n",
      "13.01.2023\n",
      "New publication: change\n",
      "13.01.2023\n",
      "New register documents Historical commercial register extract, chronological commercial register extract and current commercial register extract available\n",
      "11.10.2022\n",
      "New publication: change\n",
      "21.09.2022\n",
      "New ownership information released\n",
      "02.08.2022\n",
      "\n",
      "Augmented Text:\n",
      "CompanyHouse is commercial register and business information web portal. With over 8.5 million companies and executives, CompanyHouse is the most comprehensive free source for up-to-date company and business information. We intelligently link data from public sources about companies, people and markets and thus support small and micro-enterprises in establishing and expanding their business relationships.              \n",
      "              \n",
      "Managers: Johannes Stoll, Dr. Ole Schröder, Tanja Birkholz\n",
      "Previous signatories: Jens Holger Junak, Michael Glaßner, Brigitte Reiß, Andrea Störmann, Evelyn Koch \n",
      "              \n",
      "13.01.2023\n",
      "New publication: change\n",
      "13.01.2023\n",
      "New register documents Historical commercial register extract, chronological commercial register extract and current commercial register extract available\n",
      "11.10.2022\n",
      "New publication: change\n",
      "21.09.2022\n",
      "New ownership information released\n",
      "02.08.2022 The P .\n",
      "CompanyHouse is commercial register and business information web portal. With over 8.5 million companies and executives, CompanyHouse is the most comprehensive free source for up-to-date company and business information. We intelligently link data from public sources about companies, people and markets and thus support small and micro-enterprises in establishing and expanding their business relationships.              \n",
      "              \n",
      "Managers: Johannes Stoll, Dr. Ole Schröder, Tanja Birkholz\n",
      "Previous signatories: Jens Holger Junak, Michael Glaßner, Brigitte Reiß, Andrea Störmann, Evelyn Koch \n",
      "              \n",
      "13.01.2023\n",
      "New publication: change\n",
      "13.01.2023\n",
      "New register documents Historical commercial register extract, chronological commercial register extract and current commercial register extract available\n",
      "11.10.2022\n",
      "New publication: change\n",
      "21.09.2022\n",
      "New ownership information released\n",
      "02.08.2022 � in The This A The a .\n",
      "CompanyHouse is commercial register and business information web portal. With over 8.5 million companies and executives, CompanyHouse is the most comprehensive free source for up-to-date company and business information. We intelligently link data from public sources about companies, people and markets and thus support small and micro-enterprises in establishing and expanding their business relationships.              \n",
      "              \n",
      "Managers: Johannes Stoll, Dr. Ole Schröder, Tanja Birkholz\n",
      "Previous signatories: Jens Holger Junak, Michael Glaßner, Brigitte Reiß, Andrea Störmann, Evelyn Koch \n",
      "              \n",
      "13.01.2023\n",
      "New publication: change\n",
      "13.01.2023\n",
      "New register documents Historical commercial register extract, chronological commercial register extract and current commercial register extract available\n",
      "11.10.2022\n",
      "New publication: change\n",
      "21.09.2022\n",
      "New ownership information released\n",
      "02.08.2022 .\n"
     ]
    }
   ],
   "source": [
    "aug = nas.ContextualWordEmbsForSentenceAug(model_path='distilgpt2')\n",
    "augmented_text = aug.augment(text, n=3)\n",
    "print(\"Original:\")\n",
    "print(text)\n",
    "print(\"Augmented Text:\")\n",
    "for i in augmented_text:\n",
    "    print(i)"
   ]
  },
  {
   "attachments": {},
   "cell_type": "markdown",
   "id": "04306552",
   "metadata": {},
   "source": [
    "## nlpaug paraphrasing\n",
    "https://nlpaug.readthedocs.io/en/latest/index.html"
   ]
  },
  {
   "cell_type": "code",
   "execution_count": 10,
   "id": "a5407875",
   "metadata": {},
   "outputs": [
    {
     "name": "stdout",
     "output_type": "stream",
     "text": [
      "Original:\n",
      "Die Unterrichtsmaterialien von SCHUFA macht Schule bieten Lehrkräften fachlich und didaktisch ausgearbeitete Materialien für einen kompetenzorientierten Unterricht zur Finanzbildung. Sie können in allen allgemeinen und berufsbildenden Schulen eingesetzt werden und eignen sich für Jugendliche im Alter zwischen 15 und 20 Jahren.\n",
      "Augmented Text:\n",
      "['SCHUFA macht Schule bieten Lehrkräften fachliche und didaktisch ausgearbeitete Materialien für einen kompetenzorientierten Unterricht zur Finanzbildung. Sie können in allen allgemeinen und berufsbildenden Schulen eingesetzt werden und eignen sich für Jugendliche im Alter zwischen 15 und 20 Jahren.']\n",
      "CPU times: total: 11.2 s\n",
      "Wall time: 16.4 s\n"
     ]
    }
   ],
   "source": [
    "%%time\n",
    "asa = nas.AbstSummAug(model_path='t5-base')\n",
    "text = 'Die Unterrichtsmaterialien von SCHUFA macht Schule bieten Lehrkräften fachlich und didaktisch ausgearbeitete Materialien für einen kompetenzorientierten Unterricht zur Finanzbildung. Sie können in allen allgemeinen und berufsbildenden Schulen eingesetzt werden und eignen sich für Jugendliche im Alter zwischen 15 und 20 Jahren.'\n",
    "augmented_text = asa.augment(text)\n",
    "print(\"Original:\")\n",
    "print(text)\n",
    "print(\"Augmented Text:\")\n",
    "print(augmented_text)"
   ]
  },
  {
   "cell_type": "code",
   "execution_count": 11,
   "id": "e8f9fe26",
   "metadata": {},
   "outputs": [
    {
     "name": "stdout",
     "output_type": "stream",
     "text": [
      "CPU times: total: 9.09 s\n",
      "Wall time: 8.54 s\n"
     ]
    },
    {
     "data": {
      "text/plain": [
       "['SCHUFA macht Schule bieten Lehrkräften fachliche und didaktisch ausgearbeitete Materialien für einen kompetenzorientierten Unterricht zur Finanzbildung. Sie können in allen allgemeinen und berufsbildenden Schulen eingesetzt werden und eignen sich für Jugendliche im Alter zwischen 15 und 20 Jahren.']"
      ]
     },
     "execution_count": 11,
     "metadata": {},
     "output_type": "execute_result"
    }
   ],
   "source": [
    "%%time\n",
    "asa.augment(text)"
   ]
  },
  {
   "cell_type": "code",
   "execution_count": 12,
   "id": "78b084dd",
   "metadata": {},
   "outputs": [
    {
     "name": "stdout",
     "output_type": "stream",
     "text": [
      "Original:\n",
      "Die Unterrichtsmaterialien von SCHUFA macht Schule bieten Lehrkräften fachlich und didaktisch ausgearbeitete Materialien für einen kompetenzorientierten Unterricht zur Finanzbildung. Sie können in allen allgemeinen und berufsbildenden Schulen eingesetzt werden und eignen sich für Jugendliche im Alter zwischen 15 und 20 Jahren.\n",
      "Augmented Text:\n",
      "['Die Institution der SCHUFA macht Schule bieten Lehrkräften fachlich und will ausgearbeitete Materialien für einen kompetenzorientierten Unterricht zur Finanzbildung. Male können mit allen allgemeinen und berufsbildenden Locations eingesetzt werden der eignen fest für Jugendliche im USA zwischen 15 der 20 Jahren.']\n",
      "CPU times: total: 7.41 s\n",
      "Wall time: 9.72 s\n"
     ]
    }
   ],
   "source": [
    "%%time\n",
    "cwea = naw.ContextualWordEmbsAug(\n",
    "    model_path='roberta-base', action=\"substitute\")\n",
    "augmented_text = cwea.augment(text)\n",
    "print(\"Original:\")\n",
    "print(text)\n",
    "print(\"Augmented Text:\")\n",
    "print(augmented_text)"
   ]
  },
  {
   "cell_type": "code",
   "execution_count": 13,
   "id": "5e764df3",
   "metadata": {},
   "outputs": [
    {
     "name": "stdout",
     "output_type": "stream",
     "text": [
      "CPU times: total: 5.23 s\n",
      "Wall time: 4.59 s\n"
     ]
    },
    {
     "data": {
      "text/plain": [
       "['Die Unterrichtsmaterialien von SCHUFA und Schule bieten Lehrkräften fachlich und didaktisch in Materialien für dem kompetenzorientierten Unterricht zur Finanzbildung. Die können an den allgemeinen Version berufsbildenden Schulen eingesetzt werden und rede sich für Art ins Alter zwischen 15 und 20 Jahren.']"
      ]
     },
     "execution_count": 13,
     "metadata": {},
     "output_type": "execute_result"
    }
   ],
   "source": [
    "%%time\n",
    "cwea.augment(text)"
   ]
  },
  {
   "cell_type": "code",
   "execution_count": 14,
   "id": "95f04a37",
   "metadata": {
    "scrolled": true
   },
   "outputs": [
    {
     "name": "stderr",
     "output_type": "stream",
     "text": [
      "[nltk_data] Downloading package omw-1.4 to\n",
      "[nltk_data]     C:\\Users\\kryst\\AppData\\Roaming\\nltk_data...\n",
      "[nltk_data]   Package omw-1.4 is already up-to-date!\n"
     ]
    },
    {
     "name": "stdout",
     "output_type": "stream",
     "text": [
      "Original:\n",
      "Die Unterrichtsmaterialien von SCHUFA macht Schule bieten Lehrkräften fachlich und didaktisch ausgearbeitete Materialien für einen kompetenzorientierten Unterricht zur Finanzbildung. Sie können in allen allgemeinen und berufsbildenden Schulen eingesetzt werden und eignen sich für Jugendliche im Alter zwischen 15 und 20 Jahren.\n",
      "Augmented Text:\n",
      "['Die Unterrichtsmaterialien von SCHUFA macht Schule bieten Lehrkräften fachlich und didaktisch ausgearbeitete Materialien für einen kompetenzorientierten Unterricht zur Finanzbildung. Sie können in allen allgemeinen und berufsbildenden Schulen eingesetzt werden und eignen sich für Jugendliche im Alter zwischen 15 und xx Jahren.']\n",
      "CPU times: total: 1.2 s\n",
      "Wall time: 4 s\n"
     ]
    }
   ],
   "source": [
    "%%time\n",
    "import nltk\n",
    "nltk.download('omw-1.4')\n",
    "aug = naw.SynonymAug(aug_src='wordnet')\n",
    "augmented_text = aug.augment(text)\n",
    "print(\"Original:\")\n",
    "print(text)\n",
    "print(\"Augmented Text:\")\n",
    "print(augmented_text)"
   ]
  },
  {
   "cell_type": "code",
   "execution_count": 15,
   "id": "678f4dc9",
   "metadata": {},
   "outputs": [
    {
     "name": "stdout",
     "output_type": "stream",
     "text": [
      "CPU times: total: 28.6 s\n",
      "Wall time: 49.9 s\n"
     ]
    },
    {
     "data": {
      "text/plain": [
       "['Die Lehrmaterialien der SCHUFA macht Schule stellen Lehrern professionell und didaktisch gestaltete Materialien für einen kompetenzorientierten Unterricht zur Finanzerziehung zur Verfügung. Sie sind an allen allgemeinbildenden und berufsbildenden Schulen einsetzbar und für Jugendliche zwischen 15 und 20 Jahren geeignet.']"
      ]
     },
     "execution_count": 15,
     "metadata": {},
     "output_type": "execute_result"
    }
   ],
   "source": [
    "%%time\n",
    "#BEST\n",
    "import warnings\n",
    "warnings.filterwarnings(\"ignore\")\n",
    "import nlpaug.augmenter.word as naw\n",
    "# text = \"FirmenWissen ist ein Angebot von Creditreform, dem europäischen Markt- und Qualitätsführer für Wirtschaftsinformationen. Die Vermittlung von Firmendaten ist seit über 15 Jahren unsere Mission. Im Kern lautet unser Auftrag: zuverlässige und aktuelle Firmeninformationen aufzubereiten, zu verknüpfen, gut durchsuchbar und exportierbar machen, um unseren Nutzern den entscheidenden Zeit- und Wissensvorsprung zu verschaffen. Mehr als 37 Millionen Seitenaufrufe in 2018 machen uns zur Nr. 1 für Firmeninformationen im deutschen Internet. Dabei setzen wir auf ein solides Fundament: Seit über 136 Jahren sorgt Creditreform durch seine Informationsbasis für ein risikofreies Miteinander in geschäftlichen Beziehungen. Rund 130.000 Unternehmen in Deutschland vertrauen auf die Leistungen von Creditreform.\"\n",
    "text = 'Die Unterrichtsmaterialien von SCHUFA macht Schule bieten Lehrkräften fachlich und didaktisch ausgearbeitete Materialien für einen kompetenzorientierten Unterricht zur Finanzbildung. Sie können in allen allgemeinen und berufsbildenden Schulen eingesetzt werden und eignen sich für Jugendliche im Alter zwischen 15 und 20 Jahren.'\n",
    "\n",
    "back_translation_aug = naw.BackTranslationAug(\n",
    "    from_model_name='facebook/wmt19-de-en',\n",
    "    to_model_name='facebook/wmt19-en-de', \n",
    ")\n",
    "back_translation_aug.augment(text)"
   ]
  },
  {
   "cell_type": "code",
   "execution_count": 16,
   "id": "8e00fb44",
   "metadata": {},
   "outputs": [
    {
     "name": "stdout",
     "output_type": "stream",
     "text": [
      "CPU times: total: 21.8 s\n",
      "Wall time: 27.8 s\n"
     ]
    },
    {
     "data": {
      "text/plain": [
       "['Die Lehrmaterialien der SCHUFA macht Schule stellen Lehrern professionell und didaktisch gestaltete Materialien für einen kompetenzorientierten Unterricht zur Finanzerziehung zur Verfügung. Sie sind an allen allgemeinbildenden und berufsbildenden Schulen einsetzbar und für Jugendliche zwischen 15 und 20 Jahren geeignet.']"
      ]
     },
     "execution_count": 16,
     "metadata": {},
     "output_type": "execute_result"
    }
   ],
   "source": [
    "%%time\n",
    "back_translation_aug.augment(text)"
   ]
  },
  {
   "attachments": {},
   "cell_type": "markdown",
   "id": "a8f77291-e260-46a8-89f7-2deeefa566d0",
   "metadata": {},
   "source": [
    "## Translate into specified lang"
   ]
  },
  {
   "cell_type": "code",
   "execution_count": 17,
   "id": "10050283-3ff1-42b5-9a26-950672ca1d43",
   "metadata": {},
   "outputs": [
    {
     "name": "stdout",
     "output_type": "stream",
     "text": [
      "CPU times: total: 45.5 s\n",
      "Wall time: 44.1 s\n"
     ]
    },
    {
     "data": {
      "text/plain": [
       "'CompanyHouse ist Handelsregister- und Wirtschaftsinformationsportal. Mit über 8,5 Millionen Unternehmen und Führungskräften ist CompanyHouse die umfassendste kostenlose Quelle aktueller Unternehmens- und Wirtschaftsinformationen. Wir verknüpfen Daten aus öffentlichen Quellen über Unternehmen, Menschen und Märkte intelligent und unterstützen damit Klein- und Kleinstunternehmen beim Auf- und Ausbau ihrer Geschäftsbeziehungen. Geschäftsführer: Johannes Stoll, Dr. Ole Schröder, Tanja BirkholzBisherige Unterzeichner: Jens Holger Junak, Michael Glaßner, Brigitte Reiß, Andrea Störmann, Evelyn Koch 13.01.2023Neue Publikation: geändert13.01.2023Neue Registerunterlagen Historischer Handelsregisterauszug, chronologischer Handelsregisterauszug und aktueller Handelsregisterauszug nutzbar11.10.2022Neue Publikation: geändert21.09.2022Neue Eigentumsinformationen veröffentlicht am 02.08.2022'"
      ]
     },
     "execution_count": 17,
     "metadata": {},
     "output_type": "execute_result"
    }
   ],
   "source": [
    "%%time\n",
    "from transformers import FSMTForConditionalGeneration, FSMTTokenizer\n",
    "mname = \"facebook/wmt19-en-de\"\n",
    "tokenizer = FSMTTokenizer.from_pretrained(mname)\n",
    "model = FSMTForConditionalGeneration.from_pretrained(mname)\n",
    "\n",
    "text = '''CompanyHouse is commercial register and business information web portal. With over 8.5 million companies and executives, CompanyHouse is the most comprehensive free source for up-to-date company and business information. We intelligently link data from public sources about companies, people and markets and thus support small and micro-enterprises in establishing and expanding their business relationships.              \n",
    "              \n",
    "Managers:\n",
    "Johannes Stoll, Dr. Ole Schröder, Tanja Birkholz\n",
    "Previous signatories:\n",
    "Jens Holger Junak, Michael Glaßner, Brigitte Reiß, Andrea Störmann, Evelyn Koch \n",
    "              \n",
    "13.01.2023\n",
    "New publication: change\n",
    "13.01.2023\n",
    "New register documents Historical commercial register extract, chronological commercial register extract and current commercial register extract available\n",
    "11.10.2022\n",
    "New publication: change\n",
    "21.09.2022\n",
    "New ownership information released\n",
    "02.08.2022\n",
    "'''\n",
    "# Change in creditworthiness due to new credit limit bar\n",
    "input_ids = tokenizer.encode(text, return_tensors=\"pt\")\n",
    "outputs = model.generate(input_ids)\n",
    "de_text = tokenizer.decode(outputs[0], skip_special_tokens=True)\n",
    "de_text"
   ]
  },
  {
   "cell_type": "code",
   "execution_count": 27,
   "id": "d585ef56-116f-4535-a11b-a64665f9548d",
   "metadata": {},
   "outputs": [
    {
     "name": "stdout",
     "output_type": "stream",
     "text": [
      "Pick languages to translate: (1->en-de; 2->de-en; 3->en-ru; 4->ru-en; )\n",
      "Wrong input, deafult value\n",
      "Insert text to translate; version: facebook/wmt19-en-de:\n",
      "Orginal:\n",
      " Ich liebe meine muther\n",
      "Translation:\n",
      " Ich liebe meine Muther\n"
     ]
    }
   ],
   "source": [
    "# add input from user to translate\n",
    "\n",
    "from transformers import FSMTForConditionalGeneration, FSMTTokenizer\n",
    "\n",
    "print(\"Pick languages to translate: (1->en-de; 2->de-en; 3->en-ru; 4->ru-en; )\")\n",
    "which_lang = input()\n",
    "match which_lang:\n",
    "    case \"1\" | \"en-de\":\n",
    "        lan_name = \"facebook/wmt19-en-de\"\n",
    "    case \"2\" | \"de-en\":\n",
    "        lan_name = \"facebook/wmt19-de-en\"\n",
    "    case \"3\" | \"en-ru\":\n",
    "        lan_name = \"facebook/wmt19-en-ru\"\n",
    "    case \"4\" | \"ru-en\":\n",
    "        lan_name = \"facebook/wmt19-ru-en\"\n",
    "    case _:\n",
    "        print(\"Wrong input, deafult value\")\n",
    "        lan_name = \"facebook/wmt19-en-de\"\n",
    "print(f\"Insert text to translate; version: {lan_name}:\")\n",
    "user_text = input()\n",
    "\n",
    "tokenizer = FSMTTokenizer.from_pretrained(lan_name)\n",
    "model = FSMTForConditionalGeneration.from_pretrained(lan_name)\n",
    "\n",
    "input_ids = tokenizer.encode(user_text, return_tensors=\"pt\")\n",
    "outputs = model.generate(input_ids)\n",
    "output_text = tokenizer.decode(outputs[0], skip_special_tokens=True)\n",
    "\n",
    "print(f\"Orginal:\\n {user_text}\")\n",
    "print(f\"Translation:\\n {output_text}\")\n"
   ]
  }
 ],
 "metadata": {
  "kernelspec": {
   "display_name": "Python 3 (ipykernel)",
   "language": "python",
   "name": "python3"
  },
  "language_info": {
   "codemirror_mode": {
    "name": "ipython",
    "version": 3
   },
   "file_extension": ".py",
   "mimetype": "text/x-python",
   "name": "python",
   "nbconvert_exporter": "python",
   "pygments_lexer": "ipython3",
   "version": "3.11.2"
  }
 },
 "nbformat": 4,
 "nbformat_minor": 5
}
